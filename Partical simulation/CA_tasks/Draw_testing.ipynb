{
 "cells": [
  {
   "cell_type": "code",
   "execution_count": 261,
   "metadata": {},
   "outputs": [],
   "source": [
    "import matplotlib.pyplot as plt\n",
    "import numpy.random as rnd\n",
    "import numpy as np\n",
    "import io\n",
    "import cv2\n",
    "from matplotlib.patches import Ellipse\n",
    "import itertools\n",
    "import math"
   ]
  },
  {
   "cell_type": "code",
   "execution_count": 113,
   "metadata": {},
   "outputs": [],
   "source": [
    "class Particle:\n",
    "    \n",
    "    def __init__(self, xy_pos, xy_vel):\n",
    "        self.xy = xy_pos\n",
    "        self.vel = xy_vel\n",
    "        self.damp = 1.0\n",
    "    \n",
    "    def update(self):\n",
    "        self.xy += self.vel\n",
    "        "
   ]
  },
  {
   "cell_type": "code",
   "execution_count": 260,
   "metadata": {},
   "outputs": [
    {
     "data": {
      "text/plain": [
       "array([0.3, 0.3])"
      ]
     },
     "execution_count": 260,
     "metadata": {},
     "output_type": "execute_result"
    }
   ],
   "source": [
    "np.clip(np.array([0.3,0.3]),0.0,1.0)"
   ]
  },
  {
   "cell_type": "code",
   "execution_count": 137,
   "metadata": {},
   "outputs": [
    {
     "data": {
      "text/plain": [
       "0.18"
      ]
     },
     "execution_count": 137,
     "metadata": {},
     "output_type": "execute_result"
    }
   ],
   "source": []
  },
  {
   "cell_type": "code",
   "execution_count": 312,
   "metadata": {},
   "outputs": [],
   "source": [
    "class ParticleSystem:\n",
    "    \n",
    "    def __init__(self, start_count, env_size, part_size, rep_strength):\n",
    "        self.parts = []\n",
    "        self.part_size = part_size\n",
    "        self.repel_strength = rep_strength\n",
    "        self.lower_bound_x = 0\n",
    "        self.lower_bound_y = 0\n",
    "        self.upper_bound_x = env_size\n",
    "        self.upper_bound_y = env_size\n",
    "        self.sim_step = 0\n",
    "        self.draw_step = 0\n",
    "        self.init_parts(start_count)\n",
    "\n",
    "    def init_parts(self, start_count):\n",
    "        for _ in range(start_count):\n",
    "            self.parts.append(\n",
    "                Particle(\n",
    "                    np.array([\n",
    "                        rnd.random()*self.upper_bound_x, \n",
    "                        rnd.random()*self.upper_bound_y\n",
    "                    ]),\n",
    "                    np.array([0.0, 0.0])\n",
    "                )\n",
    "            )\n",
    "        \n",
    "    def pair_force(self, a, b):\n",
    "        eps = 1.0\n",
    "        dv = a.xy - b.xy\n",
    "        dist = np.sqrt(dv.dot(dv))\n",
    "        # spring-like linear force with k=repel_strength, l=part_size, m=1\n",
    "        frc = (dv/dist)*self.repel_strength*max(self.part_size-dist,0.0)\n",
    "        a.vel += frc\n",
    "        b.vel -= frc\n",
    "        \n",
    "    def sim(self):\n",
    "        for pair in itertools.combinations(self.parts, 2):\n",
    "            self.pair_force(*pair)\n",
    "        for part in self.parts:\n",
    "            part.update()\n",
    "            # walls\n",
    "            xw = min(self.lower_bound_x+part.xy[0]-self.part_size, 0.0)\n",
    "            part.vel[0] -= self.repel_strength*xw\n",
    "            xw = min(self.upper_bound_x-part.xy[0]-self.part_size, 0.0)\n",
    "            part.vel[0] += self.repel_strength*xw\n",
    "            \n",
    "            yw = min(self.lower_bound_y+part.xy[1]-self.part_size, 0.0)\n",
    "            part.vel[1] -= self.repel_strength*yw\n",
    "            yw = min(self.upper_bound_y-part.xy[1]-self.part_size, 0.0)\n",
    "            part.vel[1] += self.repel_strength*yw\n",
    "            \n",
    "        self.sim_step += 1\n",
    "            \n",
    "    @staticmethod\n",
    "    def get_img_from_fig(fig, dpi=180):\n",
    "        '''\n",
    "        graphics in python is really a sad state of affiars :'(\n",
    "        from https://stackoverflow.com/a/58641662\n",
    "        define a function which returns an image as numpy array from figure\n",
    "        '''\n",
    "        buf = io.BytesIO()\n",
    "        fig.savefig(buf, format=\"png\", dpi=dpi)\n",
    "        buf.seek(0)\n",
    "        img_arr = np.frombuffer(buf.getvalue(), dtype=np.uint8)\n",
    "        buf.close()\n",
    "        img = cv2.imdecode(img_arr, 1)\n",
    "        img = cv2.cvtColor(img, cv2.COLOR_BGR2RGB)\n",
    "\n",
    "        return img\n",
    "    \n",
    "    @staticmethod\n",
    "    def hsv2rgb(c):\n",
    "        '''\n",
    "        iq's from https://www.shadertoy.com/view/lsS3Wc\n",
    "        '''\n",
    "        rgb = np.clip( np.abs(np.mod(c[0]*6.0+np.array([0.0,4.0,2.0]),6.0)-3.0)-1.0, 0.0, 1.0 )\n",
    "        wht = np.array([1.0,1.0,1.0])\n",
    "        return c[2] * (c[1]*rgb + (1.0-c[1])*wht)\n",
    "        \n",
    "    def draw(self):\n",
    "        plt.close('all')\n",
    "        ells = [(Ellipse(xy=[0.0,0.0],width=400,height=400), [0.0,0.0,0.0])]+[\n",
    "            (Ellipse(\n",
    "                xy=part.xy, \n",
    "                width=self.part_size, \n",
    "                height=self.part_size\n",
    "            ),\n",
    "            ParticleSystem.hsv2rgb([\n",
    "                math.atan2(part.vel[0],part.vel[1]), \n",
    "                8.0*np.sqrt(part.vel.dot(part.vel)),\n",
    "                0.9\n",
    "            ]))\n",
    "            for part in self.parts]\n",
    "\n",
    "        fig = plt.figure(0)\n",
    "\n",
    "        DPI = fig.get_dpi()\n",
    "        fig.set_size_inches(dim_size/float(DPI),dim_size/float(DPI))\n",
    "\n",
    "        ax = fig.add_subplot(111, aspect='equal')\n",
    "        for e,col in ells:\n",
    "            ax.add_artist(e)\n",
    "            e.set_clip_box(ax.bbox)\n",
    "            e.set_alpha(1.0)\n",
    "            e.set_facecolor(col)\n",
    "\n",
    "        ax.set_xlim(0, dim_size)\n",
    "        ax.set_ylim(0, dim_size)\n",
    "        ax.axis('off')\n",
    "        plt.savefig(f'part_test/t{self.draw_step:06d}.png')\n",
    "        self.draw_step += 1\n",
    "        return ParticleSystem.get_img_from_fig(fig, DPI)/255.0\n",
    "        "
   ]
  },
  {
   "cell_type": "code",
   "execution_count": 313,
   "metadata": {},
   "outputs": [],
   "source": [
    "ps = ParticleSystem(30, 128, 5.0, 0.001)"
   ]
  },
  {
   "cell_type": "code",
   "execution_count": 314,
   "metadata": {},
   "outputs": [
    {
     "data": {
      "image/png": "[encoded data removed]",
      "text/plain": [
       "<Figure size 128x128 with 1 Axes>"
      ]
     },
     "metadata": {
      "needs_background": "light"
     },
     "output_type": "display_data"
    }
   ],
   "source": [
    "for _ in range(800):\n",
    "    ps.draw()\n",
    "    for _ in range(10):\n",
    "        ps.sim()"
   ]
  },
  {
   "cell_type": "code",
   "execution_count": 315,
   "metadata": {},
   "outputs": [
    {
     "data": {
      "image/png": "[encoded data removed]",
      "text/plain": [
       "<Figure size 128x128 with 1 Axes>"
      ]
     },
     "metadata": {
      "needs_background": "light"
     },
     "output_type": "display_data"
    }
   ],
   "source": [
    "res = ps.draw()"
   ]
  },
  {
   "cell_type": "code",
   "execution_count": 316,
   "metadata": {},
   "outputs": [
    {
     "data": {
      "text/plain": [
       "(128, 128, 3)"
      ]
     },
     "execution_count": 316,
     "metadata": {},
     "output_type": "execute_result"
    }
   ],
   "source": [
    "res.shape"
   ]
  },
  {
   "cell_type": "code",
   "execution_count": 318,
   "metadata": {},
   "outputs": [
    {
     "data": {
      "text/plain": [
       "<matplotlib.image.AxesImage at 0x1f2649ace10>"
      ]
     },
     "execution_count": 318,
     "metadata": {},
     "output_type": "execute_result"
    },
    {
     "data": {
      "image/png": "[encoded data removed]",
      "text/plain": [
       "<Figure size 432x288 with 1 Axes>"
      ]
     },
     "metadata": {
      "needs_background": "light"
     },
     "output_type": "display_data"
    }
   ],
   "source": [
    "plt.imshow(res)"
   ]
  },
  {
   "cell_type": "code",
   "execution_count": 33,
   "metadata": {},
   "outputs": [
    {
     "data": {
      "text/plain": [
       "[(1, 2),\n",
       " (1, 3),\n",
       " (1, 4),\n",
       " (1, 5),\n",
       " (2, 3),\n",
       " (2, 4),\n",
       " (2, 5),\n",
       " (3, 4),\n",
       " (3, 5),\n",
       " (4, 5)]"
      ]
     },
     "execution_count": 33,
     "metadata": {},
     "output_type": "execute_result"
    }
   ],
   "source": [
    "testy = [1,2,3,4,5]\n",
    "list(itertools.combinations(testy, 2))"
   ]
  },
  {
   "cell_type": "code",
   "execution_count": 39,
   "metadata": {},
   "outputs": [],
   "source": [
    "\n"
   ]
  },
  {
   "cell_type": "code",
   "execution_count": 40,
   "metadata": {},
   "outputs": [
    {
     "data": {
      "text/plain": [
       "(720, 1080, 3)"
      ]
     },
     "execution_count": 40,
     "metadata": {},
     "output_type": "execute_result"
    }
   ],
   "source": [
    "# you can get a high-resolution image as numpy array!!\n",
    "plot_img_np = get_img_from_fig(fig)\n",
    "(plot_img_np/255).shape"
   ]
  },
  {
   "cell_type": "code",
   "execution_count": 17,
   "metadata": {},
   "outputs": [
    {
     "data": {
      "image/png": "[encoded data removed]",
      "text/plain": [
       "<Figure size 128x128 with 1 Axes>"
      ]
     },
     "metadata": {
      "needs_background": "light"
     },
     "output_type": "display_data"
    }
   ],
   "source": [
    "NUM = 15\n",
    "dim_size = 128.0\n",
    "\n",
    "ells = [Ellipse(xy=[5*i,5*i], width=5.0, height=5.0)\n",
    "        for i in range(NUM)]\n",
    "\n",
    "fig = plt.figure(0)\n",
    "\n",
    "DPI = fig.get_dpi()\n",
    "fig.set_size_inches(dim_size/float(DPI),dim_size/float(DPI))\n",
    "\n",
    "ax = fig.add_subplot(111, aspect='equal')\n",
    "for e in ells:\n",
    "    ax.add_artist(e)\n",
    "    e.set_clip_box(ax.bbox)\n",
    "    e.set_alpha(1.0)\n",
    "    e.set_facecolor(rnd.rand(3))\n",
    "\n",
    "ax.set_xlim(0, dim_size)\n",
    "ax.set_ylim(0, dim_size)\n",
    "ax.axis('off')\n",
    "\n",
    "plt.show()"
   ]
  },
  {
   "cell_type": "code",
   "execution_count": null,
   "metadata": {},
   "outputs": [],
   "source": []
  }
 ],
 "metadata": {
  "kernelspec": {
   "display_name": "Python 3",
   "language": "python",
   "name": "python3"
  },
  "language_info": {
   "codemirror_mode": {
    "name": "ipython",
    "version": 3
   },
   "file_extension": ".py",
   "mimetype": "text/x-python",
   "name": "python",
   "nbconvert_exporter": "python",
   "pygments_lexer": "ipython3",
   "version": "3.7.3"
  }
 },
 "nbformat": 4,
 "nbformat_minor": 2
}
